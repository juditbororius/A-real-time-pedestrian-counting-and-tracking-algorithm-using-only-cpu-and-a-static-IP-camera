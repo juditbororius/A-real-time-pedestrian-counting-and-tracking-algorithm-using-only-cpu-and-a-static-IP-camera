{
 "cells": [
  {
   "cell_type": "code",
   "execution_count": 1,
   "metadata": {},
   "outputs": [],
   "source": [
    "from imutils.video import FPS\n",
    "import numpy as np\n",
    "import imutils\n",
    "import dlib\n",
    "import cv2"
   ]
  },
  {
   "cell_type": "code",
   "execution_count": 2,
   "metadata": {},
   "outputs": [],
   "source": [
    "def isinside(l, p):\n",
    "    poly = np.array(l,dtype=np.int32)\n",
    "    poly_new = poly.reshape((-1,1,2))\n",
    "    result1 = cv2.pointPolygonTest(poly_new, p, False)\n",
    "    #cv2.polylines(medianFrame,[poly_new],isClosed=True,color=(0,255,0),thickness=10)\n",
    "    #plt.imshow(medianFrame)\n",
    "    if result1 == 1.0:\n",
    "        return True\n",
    "    else:\n",
    "        return False"
   ]
  },
  {
   "cell_type": "code",
   "execution_count": 3,
   "metadata": {},
   "outputs": [],
   "source": [
    "l_ofpoints = [[0, 0], [0, 300], [960, 350], [960, 0]]\n",
    "l_ofpoints2 = [[0, 500], [0, 720], [960, 720], [960, 600]]\n",
    "lists_out = [l_ofpoints, l_ofpoints2]"
   ]
  },
  {
   "cell_type": "code",
   "execution_count": 18,
   "metadata": {},
   "outputs": [
    {
     "ename": "KeyboardInterrupt",
     "evalue": "",
     "output_type": "error",
     "traceback": [
      "\u001b[1;31m---------------------------------------------------------------------------\u001b[0m",
      "\u001b[1;31mKeyboardInterrupt\u001b[0m                         Traceback (most recent call last)",
      "\u001b[1;32m<ipython-input-18-9e64a6606280>\u001b[0m in \u001b[0;36m<module>\u001b[1;34m\u001b[0m\n\u001b[0;32m     36\u001b[0m                     \u001b[1;32mif\u001b[0m \u001b[0mIcount\u001b[0m\u001b[1;33m>\u001b[0m\u001b[1;36m2\u001b[0m\u001b[1;33m:\u001b[0m\u001b[1;33m\u001b[0m\u001b[1;33m\u001b[0m\u001b[0m\n\u001b[0;32m     37\u001b[0m                         \u001b[0mt\u001b[0m\u001b[1;33m.\u001b[0m\u001b[0mupdate\u001b[0m\u001b[1;33m(\u001b[0m\u001b[0mrgb\u001b[0m\u001b[1;33m)\u001b[0m\u001b[1;33m\u001b[0m\u001b[1;33m\u001b[0m\u001b[0m\n\u001b[1;32m---> 38\u001b[1;33m                         \u001b[0mpos\u001b[0m \u001b[1;33m=\u001b[0m \u001b[0mt\u001b[0m\u001b[1;33m.\u001b[0m\u001b[0mget_position\u001b[0m\u001b[1;33m(\u001b[0m\u001b[1;33m)\u001b[0m\u001b[1;33m\u001b[0m\u001b[1;33m\u001b[0m\u001b[0m\n\u001b[0m\u001b[0;32m     39\u001b[0m                         \u001b[0mstartX\u001b[0m \u001b[1;33m=\u001b[0m \u001b[0mint\u001b[0m\u001b[1;33m(\u001b[0m\u001b[0mpos\u001b[0m\u001b[1;33m.\u001b[0m\u001b[0mleft\u001b[0m\u001b[1;33m(\u001b[0m\u001b[1;33m)\u001b[0m\u001b[1;33m)\u001b[0m\u001b[1;33m\u001b[0m\u001b[1;33m\u001b[0m\u001b[0m\n\u001b[0;32m     40\u001b[0m                         \u001b[0mstartY\u001b[0m \u001b[1;33m=\u001b[0m \u001b[0mint\u001b[0m\u001b[1;33m(\u001b[0m\u001b[0mpos\u001b[0m\u001b[1;33m.\u001b[0m\u001b[0mtop\u001b[0m\u001b[1;33m(\u001b[0m\u001b[1;33m)\u001b[0m\u001b[1;33m)\u001b[0m\u001b[1;33m\u001b[0m\u001b[1;33m\u001b[0m\u001b[0m\n",
      "\u001b[1;31mKeyboardInterrupt\u001b[0m: "
     ]
    }
   ],
   "source": [
    "video_path = '../PycharmProjects/pythonProject/venv/COUNTING/Videos/pedestrians.avi'\n",
    "cap = cv2.VideoCapture(video_path)\n",
    "fgbg = cv2.createBackgroundSubtractorMOG2()\n",
    "trackers = []\n",
    "fps = FPS().start()\n",
    "Icount = 0\n",
    "while cap.isOpened:\n",
    "    ret, img = cap.read()\n",
    "    if ret == True:\n",
    "        Icount += 1\n",
    "        if Icount > 1:\n",
    "            img = cv2.resize(img, (960,720))\n",
    "            rgb = cv2.cvtColor(img, cv2.COLOR_BGR2RGB)\n",
    "            if len(trackers)==0:\n",
    "                fgmask = fgbg.apply(img)\n",
    "                kernel = np.ones((6,6), np.uint8)\n",
    "                fgmask = cv2.erode(fgmask, kernel, iterations=1)\n",
    "                fgmask = cv2.dilate(fgmask, kernel, iterations=1)\n",
    "                (contours, hierarchy) = cv2.findContours(fgmask.copy(), cv2.RETR_EXTERNAL, cv2.CHAIN_APPROX_SIMPLE)\n",
    "                for index, contour in enumerate(contours):\n",
    "                    (x, y, w, h) = cv2.boundingRect(contour)\n",
    "                    M = cv2.moments(contour)\n",
    "                    center = (int(M['m10']/M['m00']), int(M['m01']/M['m00']))\n",
    "                    if any([isinside(list, center) for list in lists_out]):\n",
    "                        continue\n",
    "                    if w>30 and h>40:\n",
    "                        (startX, startY, endX, endY) = (x, y, x+w, y+h)\n",
    "                        if Icount>2:\n",
    "                            t = dlib.correlation_tracker()\n",
    "                            rect = dlib.rectangle(startX, startY, endX, endY)\n",
    "                            t.start_track(rgb, rect)\n",
    "                            trackers.append(t)\n",
    "                            cv2.rectangle(img, (startX, startY), (endX, endY), (255, 0, 0), 1)\n",
    "            else:\n",
    "                for t in trackers:\n",
    "                    if Icount>2:\n",
    "                        t.update(rgb)\n",
    "                        pos = t.get_position()\n",
    "                        startX = int(pos.left())\n",
    "                        startY = int(pos.top())\n",
    "                        endX = int(pos.right())\n",
    "                        endY = int(pos.bottom())\n",
    "                        cv2.rectangle(img, (startX, startY), (endX, endY), (255, 0, 0), 1)\n",
    "\n",
    "        cv2.imshow('frame', img)\n",
    "        if cv2.waitKey(1) & 0xFF == ord('s'):\n",
    "            break\n",
    "        fps.update()\n",
    "    else:\n",
    "        break\n",
    "fps.stop()\n",
    "print(\"[INFO] elapsed time: {:.2f}\".format(fps.elapsed()))\n",
    "print(\"[INFO] approx. FPS: {:.2f}\".format(fps.fps()))\n",
    "cap.release()\n",
    "cv2.destroyAllWindows()"
   ]
  },
  {
   "cell_type": "code",
   "execution_count": null,
   "metadata": {},
   "outputs": [],
   "source": []
  }
 ],
 "metadata": {
  "kernelspec": {
   "display_name": "Python 3",
   "language": "python",
   "name": "python3"
  },
  "language_info": {
   "codemirror_mode": {
    "name": "ipython",
    "version": 3
   },
   "file_extension": ".py",
   "mimetype": "text/x-python",
   "name": "python",
   "nbconvert_exporter": "python",
   "pygments_lexer": "ipython3",
   "version": "3.8.5"
  }
 },
 "nbformat": 4,
 "nbformat_minor": 4
}
